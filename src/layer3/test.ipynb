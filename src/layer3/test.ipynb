{
 "cells": [
  {
   "cell_type": "code",
   "execution_count": null,
   "id": "a1c9f2b5",
   "metadata": {},
   "outputs": [],
   "source": [
    "from transformers import GPT2Tokenizer, GPT2Model\n",
    "from l3mezo import MeZOTrainer, MeZOTrainingArguments"
   ]
  },
  {
   "cell_type": "code",
   "execution_count": null,
   "id": "c5666160",
   "metadata": {},
   "outputs": [],
   "source": [
    "tokenizer = GPT2Tokenizer.from_pretrained('gpt2')\n",
    "\n",
    "model_base = GPT2Model.from_pretrained('gpt2')\n",
    "model_train = GPT2Model.from_pretrained('gpt2') # shouldn't to device"
   ]
  },
  {
   "cell_type": "code",
   "execution_count": null,
   "id": "c324fd9f",
   "metadata": {},
   "outputs": [],
   "source": [
    "training_args = MeZOTrainingArguments(\"test_trainer\")"
   ]
  },
  {
   "cell_type": "code",
   "execution_count": null,
   "id": "ed2ceffa",
   "metadata": {},
   "outputs": [],
   "source": [
    "training_dataset = \n",
    "\n",
    "# input: factual activation\n",
    "# output: output from model when fed counterfactual activation"
   ]
  },
  {
   "cell_type": "code",
   "execution_count": null,
   "id": "61e4f507",
   "metadata": {},
   "outputs": [],
   "source": [
    "trainer = MeZOTrainer(model=model_train, args=training_args, train_dataset=training_dataset, )"
   ]
  }
 ],
 "metadata": {
  "language_info": {
   "name": "python"
  }
 },
 "nbformat": 4,
 "nbformat_minor": 5
}
