{
 "cells": [
  {
   "cell_type": "code",
   "execution_count": null,
   "id": "a1c9f2b5",
   "metadata": {},
   "outputs": [],
   "source": [
    "from transformers import GPT2Tokenizer, GPT2Model\n",
    "from l3mezo import MeZOTrainer, MeZOTrainingArguments\n",
    "from utils import load_dataset\n",
    "import torch\n",
    "from datetime import datetime"
   ]
  },
  {
   "cell_type": "code",
   "execution_count": null,
   "id": "bd660cfc",
   "metadata": {},
   "outputs": [],
   "source": [
    "device = torch.device(\"cuda\" if torch.cuda.is_available() else \"cpu\")"
   ]
  },
  {
   "cell_type": "code",
   "execution_count": null,
   "id": "c5666160",
   "metadata": {},
   "outputs": [],
   "source": [
    "tokenizer = GPT2Tokenizer.from_pretrained('gpt2')\n",
    "tokenizer.pad_token = tokenizer.eos_token\n",
    "\n",
    "model_base = GPT2Model.from_pretrained('gpt2').to(device)\n",
    "model_train = GPT2Model.from_pretrained('gpt2') # shouldn't to device"
   ]
  },
  {
   "cell_type": "code",
   "execution_count": null,
   "id": "c324fd9f",
   "metadata": {},
   "outputs": [],
   "source": [
    "# NEED TO UPDATE THIS\n",
    "\n",
    "\n",
    "\n",
    "training_args = MeZOTrainingArguments(\n",
    "    output_dir=f'data/runs/L3_TRAIN/test-{str(datetime.now())}',\n",
    "    evaluation_strategy='epoch',\n",
    "    num_train_epochs=1,\n",
    "    per_device_train_batch_size=4,\n",
    "    per_device_eval_batch_size=4,\n",
    "    warmup_steps=500,\n",
    "    weight_decay=0.01,\n",
    "    logging_dir=f'logs/L3_TRAIN/test-{str(datetime.now())}',\n",
    "    label_names=['corr_logits'], \n",
    "    lambda_train=0.6,\n",
    "    original_model=model_base,  \n",
    ")\n",
    "\n",
    "# LR needs 2 be fixed\n",
    "\n",
    "# Need to check if all data is correctly transfered to device (tokens, logits, etc)\n",
    "\n",
    "# Need to check that inputs are correctly formatted and tokenized"
   ]
  },
  {
   "cell_type": "code",
   "execution_count": null,
   "id": "ed2ceffa",
   "metadata": {},
   "outputs": [],
   "source": [
    "training_dataset = load_dataset('greater_than_data.csv', model_base, tokenizer, device)"
   ]
  },
  {
   "cell_type": "code",
   "execution_count": null,
   "id": "61e4f507",
   "metadata": {},
   "outputs": [],
   "source": [
    "trainer = MeZOTrainer(\n",
    "    model=model_train, \n",
    "    args=training_args, \n",
    "    train_dataset=training_dataset['train'],\n",
    "    processing_class = tokenizer\n",
    ")"
   ]
  },
  {
   "cell_type": "code",
   "execution_count": null,
   "id": "a9421380",
   "metadata": {},
   "outputs": [],
   "source": [
    "trainer.train()"
   ]
  }
 ],
 "metadata": {
  "kernelspec": {
   "display_name": "base",
   "language": "python",
   "name": "python3"
  },
  "language_info": {
   "codemirror_mode": {
    "name": "ipython",
    "version": 3
   },
   "file_extension": ".py",
   "mimetype": "text/x-python",
   "name": "python",
   "nbconvert_exporter": "python",
   "pygments_lexer": "ipython3",
   "version": "3.13.5"
  }
 },
 "nbformat": 4,
 "nbformat_minor": 5
}
