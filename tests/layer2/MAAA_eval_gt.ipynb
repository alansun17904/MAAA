{
 "cells": [
  {
   "cell_type": "code",
   "execution_count": null,
   "id": "d9731af2",
   "metadata": {},
   "outputs": [],
   "source": [
    "from src.layer2.prune.MAAA import fpt2_gt"
   ]
  }
 ],
 "metadata": {
  "language_info": {
   "name": "python"
  }
 },
 "nbformat": 4,
 "nbformat_minor": 5
}
